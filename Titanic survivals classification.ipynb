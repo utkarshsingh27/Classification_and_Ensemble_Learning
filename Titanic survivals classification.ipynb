{
 "cells": [
  {
   "cell_type": "markdown",
   "id": "372fd54f-9c58-49f5-a268-99c432881349",
   "metadata": {},
   "source": [
    "# Dataset Description: Titanic Survival Data\n",
    "The dataset used for this analysis is a subset of the Titanic Survival Dataset, which contains information about the passengers onboard the Titanic. The main objective is to predict whether a passenger survived or not, based on certain features.\n",
    "\n",
    "The dataset used for this analysis is a subset of the Titanic Survival Dataset available on Kaggle.\n"
   ]
  },
  {
   "cell_type": "markdown",
   "id": "d0dca508-abdd-4e18-a03e-635e2d109af7",
   "metadata": {},
   "source": [
    "### Features Included:\n",
    "\n",
    "Pclass — Ticket class (1 = 1st, 2 = 2nd, 3 = 3rd)\n",
    "\n",
    "Sex — Gender of the passenger (male or female)\n",
    "\n",
    "Age — Age of the passenger (in years)\n",
    "\n",
    "Fare — The amount of money paid for the ticket\n",
    "\n",
    "Embarked — Port of Embarkation (0 = Cherbourg, 1 = Queenstown, 2 = Southampton)\n",
    "\n",
    "### Target Variable:\n",
    "Survived — Survival status of the passenger (0 = No, 1 = Yes)"
   ]
  },
  {
   "cell_type": "code",
   "execution_count": 129,
   "id": "af0ca68a-0aae-4bf8-876d-f8c72d8d551a",
   "metadata": {},
   "outputs": [],
   "source": [
    "import pandas as pd\n",
    "from sklearn.model_selection import train_test_split\n",
    "from sklearn.preprocessing import StandardScaler\n",
    "from sklearn.neighbors import KNeighborsClassifier\n",
    "from sklearn.tree import DecisionTreeClassifier\n",
    "from sklearn.svm import SVC\n",
    "from sklearn.preprocessing import LabelEncoder\n",
    "from sklearn.metrics import classification_report, confusion_matrix, accuracy_score\n",
    "import seaborn as sns\n",
    "import matplotlib.pyplot as plt"
   ]
  },
  {
   "cell_type": "markdown",
   "id": "e8fcb6e3-20bf-4148-83a3-6ad98866d66c",
   "metadata": {},
   "source": [
    "## Data Preprocessing and Splitting"
   ]
  },
  {
   "cell_type": "code",
   "execution_count": 132,
   "id": "20bf204c-60b9-42ce-b6a1-a0c354d08cc5",
   "metadata": {},
   "outputs": [
    {
     "name": "stdout",
     "output_type": "stream",
     "text": [
      "<class 'pandas.core.frame.DataFrame'>\n",
      "RangeIndex: 714 entries, 0 to 713\n",
      "Data columns (total 8 columns):\n",
      " #   Column       Non-Null Count  Dtype  \n",
      "---  ------       --------------  -----  \n",
      " 0   PassengerId  714 non-null    int64  \n",
      " 1   Survived     714 non-null    int64  \n",
      " 2   Pclass       714 non-null    int64  \n",
      " 3   Name         714 non-null    object \n",
      " 4   Sex          714 non-null    object \n",
      " 5   Age          714 non-null    float64\n",
      " 6   Fare         714 non-null    float64\n",
      " 7   Embarked     712 non-null    object \n",
      "dtypes: float64(2), int64(3), object(3)\n",
      "memory usage: 44.8+ KB\n",
      "None\n",
      "\n",
      "Data Preprocessing and Splitting Done Successfully!\n",
      "Training Set Size: (428, 5)\n",
      "Validation Set Size: (143, 5)\n",
      "Test Set Size: (143, 5)\n"
     ]
    }
   ],
   "source": [
    "# Load the data\n",
    "df = pd.read_csv(\"Documents/Book 1(Sheet1)-2.csv\")\n",
    "print(df.info())\n",
    "\n",
    "# Label Encoding for categorical features\n",
    "le_sex = LabelEncoder()\n",
    "le_embarked = LabelEncoder()\n",
    "\n",
    "df['Sex'] = le_sex.fit_transform(df['Sex'])\n",
    "df['Embarked'] = le_embarked.fit_transform(df['Embarked'])\n",
    "\n",
    "# Feature Scaling\n",
    "X = df[['Sex', 'Pclass', 'Embarked', 'Age', 'Fare']]\n",
    "y = df['Survived']\n",
    "\n",
    "scaler = StandardScaler()\n",
    "X_scaled = scaler.fit_transform(X)\n",
    "\n",
    "# Train-Test Split (60% Training, 20% Validation, 20% Test)\n",
    "X_train, X_temp, y_train, y_temp = train_test_split(X_scaled, y, test_size=0.4, random_state=42)\n",
    "X_val, X_test, y_val, y_test = train_test_split(X_temp, y_temp, test_size=0.5, random_state=42)\n",
    "\n",
    "print(\"\\nData Preprocessing and Splitting Done Successfully!\")\n",
    "print(f\"Training Set Size: {X_train.shape}\")\n",
    "print(f\"Validation Set Size: {X_val.shape}\")\n",
    "print(f\"Test Set Size: {X_test.shape}\")\n"
   ]
  },
  {
   "cell_type": "markdown",
   "id": "4baeafaf-76c5-4a92-8d79-aaf73be11e3c",
   "metadata": {},
   "source": [
    "## Support Vector Machine (SVM)"
   ]
  },
  {
   "cell_type": "code",
   "execution_count": 135,
   "id": "d6e95024-4189-44c7-8b1f-dc27111ea8e1",
   "metadata": {},
   "outputs": [
    {
     "name": "stdout",
     "output_type": "stream",
     "text": [
      "Support Vector Machine (SVM) Performance on Validation Set\n",
      "Accuracy: 0.7972027972027972\n",
      "\n",
      "Classification Report:\n",
      "               precision    recall  f1-score   support\n",
      "\n",
      "           0       0.79      0.91      0.84        87\n",
      "           1       0.81      0.62      0.71        56\n",
      "\n",
      "    accuracy                           0.80       143\n",
      "   macro avg       0.80      0.77      0.78       143\n",
      "weighted avg       0.80      0.80      0.79       143\n",
      "\n"
     ]
    },
    {
     "data": {
      "image/png": "[encoded data removed]",
      "text/plain": [
       "<Figure size 500x400 with 2 Axes>"
      ]
     },
     "metadata": {},
     "output_type": "display_data"
    }
   ],
   "source": [
    "from sklearn.svm import SVC\n",
    "from sklearn.metrics import classification_report, confusion_matrix, accuracy_score\n",
    "import seaborn as sns\n",
    "import matplotlib.pyplot as plt\n",
    "\n",
    "# Initialize the model and Train the model\n",
    "svm_model = SVC(kernel='rbf', C=1, gamma='scale', random_state=42)\n",
    "svm_model.fit(X_train, y_train)\n",
    "\n",
    "# Predictions on the validation set\n",
    "y_val_pred_svm = svm_model.predict(X_val)\n",
    "\n",
    "# Evaluate the model\n",
    "print(\"Support Vector Machine (SVM) Performance on Validation Set\")\n",
    "print(\"Accuracy:\", accuracy_score(y_val, y_val_pred_svm))\n",
    "print(\"\\nClassification Report:\\n\", classification_report(y_val, y_val_pred_svm))\n",
    "\n",
    "# Confusion Matrix\n",
    "plt.figure(figsize=(5, 4))\n",
    "sns.heatmap(confusion_matrix(y_val, y_val_pred_svm), annot=True, fmt='d', cmap='Blues')\n",
    "plt.title(\"Confusion Matrix - SVM (Validation Set)\")\n",
    "plt.xlabel(\"Predicted\")\n",
    "plt.ylabel(\"Actual\")\n",
    "plt.show()\n"
   ]
  },
  {
   "cell_type": "markdown",
   "id": "8ae04f1d-74e6-4dc8-8f19-82311e25f925",
   "metadata": {},
   "source": [
    "## Decision Tree Classifier"
   ]
  },
  {
   "cell_type": "code",
   "execution_count": 138,
   "id": "e642af23-3b94-498b-97d8-ff619d246e54",
   "metadata": {},
   "outputs": [
    {
     "name": "stdout",
     "output_type": "stream",
     "text": [
      "Decision Tree Performance on Validation Set\n",
      "Accuracy: 0.7622377622377622\n",
      "\n",
      "Classification Report:\n",
      "               precision    recall  f1-score   support\n",
      "\n",
      "           0       0.80      0.82      0.81        87\n",
      "           1       0.70      0.68      0.69        56\n",
      "\n",
      "    accuracy                           0.76       143\n",
      "   macro avg       0.75      0.75      0.75       143\n",
      "weighted avg       0.76      0.76      0.76       143\n",
      "\n"
     ]
    },
    {
     "data": {
      "image/png": "[encoded data removed]",
      "text/plain": [
       "<Figure size 500x400 with 2 Axes>"
      ]
     },
     "metadata": {},
     "output_type": "display_data"
    }
   ],
   "source": [
    "from sklearn.tree import DecisionTreeClassifier\n",
    "from sklearn.metrics import classification_report, confusion_matrix, accuracy_score\n",
    "import seaborn as sns\n",
    "import matplotlib.pyplot as plt\n",
    "\n",
    "# Initialize the Decision Tree model and Train the model\n",
    "dt_model = DecisionTreeClassifier(random_state=42)\n",
    "dt_model.fit(X_train, y_train)\n",
    "\n",
    "# Predict on validation data\n",
    "y_val_pred_dt = dt_model.predict(X_val)\n",
    "\n",
    "# Evaluate the model\n",
    "print(\"Decision Tree Performance on Validation Set\")\n",
    "print(\"Accuracy:\", accuracy_score(y_val, y_val_pred_dt))\n",
    "print(\"\\nClassification Report:\\n\", classification_report(y_val, y_val_pred_dt))\n",
    "\n",
    "# Confusion Matrix plot\n",
    "plt.figure(figsize=(5,4))\n",
    "sns.heatmap(confusion_matrix(y_val, y_val_pred_dt), annot=True, fmt='d', cmap='Greens')\n",
    "plt.title(\"Confusion Matrix - Decision Tree (Validation Set)\")\n",
    "plt.xlabel(\"Predicted\")\n",
    "plt.ylabel(\"Actual\")\n",
    "plt.show()\n"
   ]
  },
  {
   "cell_type": "markdown",
   "id": "509b276f-0ea9-4902-90dd-2df68053a094",
   "metadata": {},
   "source": [
    "## K-Nearest Neighbors (KNN) Classifier "
   ]
  },
  {
   "cell_type": "code",
   "execution_count": 141,
   "id": "65411578-c882-4f48-9938-7be98325465d",
   "metadata": {},
   "outputs": [
    {
     "name": "stdout",
     "output_type": "stream",
     "text": [
      "KNN Performance on Validation Set\n",
      "Accuracy: 0.8041958041958042\n",
      "\n",
      "Classification Report:\n",
      "               precision    recall  f1-score   support\n",
      "\n",
      "           0       0.85      0.83      0.84        87\n",
      "           1       0.74      0.77      0.75        56\n",
      "\n",
      "    accuracy                           0.80       143\n",
      "   macro avg       0.79      0.80      0.80       143\n",
      "weighted avg       0.81      0.80      0.80       143\n",
      "\n"
     ]
    },
    {
     "data": {
      "image/png": "[encoded data removed]",
      "text/plain": [
       "<Figure size 500x400 with 2 Axes>"
      ]
     },
     "metadata": {},
     "output_type": "display_data"
    }
   ],
   "source": [
    "from sklearn.neighbors import KNeighborsClassifier\n",
    "from sklearn.metrics import classification_report, confusion_matrix, accuracy_score\n",
    "import seaborn as sns\n",
    "import matplotlib.pyplot as plt\n",
    "\n",
    "# Initialize the KNN model and Train the model\n",
    "knn_model = KNeighborsClassifier(n_neighbors=5) #(let's start with k=5)\n",
    "knn_model.fit(X_train, y_train)\n",
    "\n",
    "# Predict on validation data\n",
    "y_val_pred_knn = knn_model.predict(X_val)\n",
    "\n",
    "# Evaluate the model\n",
    "print(\"KNN Performance on Validation Set\")\n",
    "print(\"Accuracy:\", accuracy_score(y_val, y_val_pred_knn))\n",
    "print(\"\\nClassification Report:\\n\", classification_report(y_val, y_val_pred_knn))\n",
    "\n",
    "# Confusion Matrix plot\n",
    "plt.figure(figsize=(5,4))\n",
    "sns.heatmap(confusion_matrix(y_val, y_val_pred_knn), annot=True, fmt='d', cmap='Reds')\n",
    "plt.title(\"Confusion Matrix - KNN (Validation Set)\")\n",
    "plt.xlabel(\"Predicted\")\n",
    "plt.ylabel(\"Actual\")\n",
    "plt.show()\n"
   ]
  },
  {
   "cell_type": "markdown",
   "id": "1ed6697e-5539-4290-95b7-d0172c5dfec3",
   "metadata": {},
   "source": [
    "## Validation Accuracy comparison of all models "
   ]
  },
  {
   "cell_type": "code",
   "execution_count": 144,
   "id": "0e094f6e-c256-4bff-876d-811ef6dce605",
   "metadata": {},
   "outputs": [
    {
     "name": "stdout",
     "output_type": "stream",
     "text": [
      "\n",
      " Validation Accuracies:\n",
      "KNN Accuracy: 0.8041958041958042\n",
      "Decision Tree Accuracy: 0.7622377622377622\n",
      "SVM Accuracy: 0.7972027972027972\n"
     ]
    }
   ],
   "source": [
    "# Validation Accuracy of All Models\n",
    "knn_val_acc = accuracy_score(y_val, y_val_pred_knn)\n",
    "dt_val_acc = accuracy_score(y_val, y_val_pred_dt)\n",
    "svm_val_acc = accuracy_score(y_val, y_val_pred_svm)\n",
    "\n",
    "print(\"\\n Validation Accuracies:\")\n",
    "print(f\"KNN Accuracy: {knn_val_acc}\")\n",
    "print(f\"Decision Tree Accuracy: {dt_val_acc}\")\n",
    "print(f\"SVM Accuracy: {svm_val_acc}\")\n"
   ]
  },
  {
   "cell_type": "markdown",
   "id": "cc54b4a8-f1f3-4489-8179-3757a199a176",
   "metadata": {},
   "source": [
    "## Test Accuracy comparison of all models "
   ]
  },
  {
   "cell_type": "code",
   "execution_count": 147,
   "id": "63f6f6b2-c242-45e7-80c7-4fa548312a39",
   "metadata": {},
   "outputs": [
    {
     "name": "stdout",
     "output_type": "stream",
     "text": [
      "\n",
      " Test Accuracies:\n",
      "KNN Accuracy: 0.7412587412587412\n",
      "Decision Tree Accuracy: 0.7342657342657343\n",
      "SVM Accuracy: 0.7482517482517482\n"
     ]
    }
   ],
   "source": [
    "from sklearn.metrics import accuracy_score\n",
    "\n",
    "# Test predictions\n",
    "knn_test_pred = knn_model.predict(X_test)\n",
    "dt_test_pred = dt_model.predict(X_test)\n",
    "svm_test_pred = svm_model.predict(X_test)\n",
    "\n",
    "# Test accuracies\n",
    "knn_test_acc = accuracy_score(y_test, knn_test_pred)\n",
    "dt_test_acc = accuracy_score(y_test, dt_test_pred)\n",
    "svm_test_acc = accuracy_score(y_test, svm_test_pred)\n",
    "\n",
    "print(\"\\n Test Accuracies:\")\n",
    "print(f\"KNN Accuracy: {knn_test_acc}\")\n",
    "print(f\"Decision Tree Accuracy: {dt_test_acc}\")\n",
    "print(f\"SVM Accuracy: {svm_test_acc}\")\n"
   ]
  },
  {
   "cell_type": "markdown",
   "id": "ef2d1404-5c03-48ab-b953-91dd024e1f6f",
   "metadata": {},
   "source": [
    "## Ensemble Model using Voting Classifier"
   ]
  },
  {
   "cell_type": "code",
   "execution_count": 150,
   "id": "d9baa0c2-aad3-43aa-b8cf-1353ff2fcffb",
   "metadata": {},
   "outputs": [
    {
     "name": "stdout",
     "output_type": "stream",
     "text": [
      "\n",
      " Ensemble Model Results:\n",
      "Test Data Accuracy (Ensemble): 0.7482517482517482\n",
      "\n",
      "Confusion Matrix:\n",
      " [[67 11]\n",
      " [25 40]]\n",
      "\n",
      "Classification Report:\n",
      "               precision    recall  f1-score   support\n",
      "\n",
      "           0       0.73      0.86      0.79        78\n",
      "           1       0.78      0.62      0.69        65\n",
      "\n",
      "    accuracy                           0.75       143\n",
      "   macro avg       0.76      0.74      0.74       143\n",
      "weighted avg       0.75      0.75      0.74       143\n",
      "\n"
     ]
    },
    {
     "data": {
      "image/png": "[encoded data removed]",
      "text/plain": [
       "<Figure size 500x400 with 2 Axes>"
      ]
     },
     "metadata": {},
     "output_type": "display_data"
    }
   ],
   "source": [
    "from sklearn.ensemble import VotingClassifier\n",
    "from sklearn.metrics import classification_report, confusion_matrix, accuracy_score\n",
    "import seaborn as sns\n",
    "import matplotlib.pyplot as plt\n",
    "\n",
    "# Initialize the ensemble model with correct model names\n",
    "ensemble_model = VotingClassifier(estimators=[\n",
    "    ('knn', knn_model),\n",
    "    ('dt', dt_model),\n",
    "    ('svm', svm_model)\n",
    "], voting='hard')  # Use 'soft' for probability-based voting\n",
    "\n",
    "# Train the ensemble model\n",
    "ensemble_model.fit(X_train, y_train)\n",
    "\n",
    "# Predictions on the test set\n",
    "ensemble_pred = ensemble_model.predict(X_test)\n",
    "\n",
    "# Evaluate the ensemble model\n",
    "print(\"\\n Ensemble Model Results:\")\n",
    "print(\"Test Data Accuracy (Ensemble):\", accuracy_score(y_test, ensemble_pred))\n",
    "print(\"\\nConfusion Matrix:\\n\", confusion_matrix(y_test, ensemble_pred))\n",
    "print(\"\\nClassification Report:\\n\", classification_report(y_test, ensemble_pred))\n",
    "\n",
    "# Plot Confusion Matrix\n",
    "plt.figure(figsize=(5, 4))\n",
    "sns.heatmap(confusion_matrix(y_test, ensemble_pred), annot=True, fmt='d', cmap='Purples')\n",
    "plt.title(\"Confusion Matrix - Ensemble Model (Test Set)\")\n",
    "plt.xlabel(\"Predicted\")\n",
    "plt.ylabel(\"Actual\")\n",
    "plt.show()\n",
    "\n"
   ]
  },
  {
   "cell_type": "code",
   "execution_count": null,
   "id": "73e299ac-c2ef-4ec7-a27e-d98a2cb00e94",
   "metadata": {},
   "outputs": [],
   "source": []
  }
 ],
 "metadata": {
  "kernelspec": {
   "display_name": "Python 3 (ipykernel)",
   "language": "python",
   "name": "python3"
  },
  "language_info": {
   "codemirror_mode": {
    "name": "ipython",
    "version": 3
   },
   "file_extension": ".py",
   "mimetype": "text/x-python",
   "name": "python",
   "nbconvert_exporter": "python",
   "pygments_lexer": "ipython3",
   "version": "3.12.7"
  }
 },
 "nbformat": 4,
 "nbformat_minor": 5
}
